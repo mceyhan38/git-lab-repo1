{
 "cells": [
  {
   "cell_type": "code",
   "execution_count": 1,
   "metadata": {},
   "outputs": [
    {
     "output_type": "execute_result",
     "data": {
      "text/plain": "9"
     },
     "metadata": {},
     "execution_count": 1
    }
   ],
   "source": [
    "3+6"
   ]
  },
  {
   "cell_type": "code",
   "execution_count": 4,
   "metadata": {
    "tags": []
   },
   "outputs": [
    {
     "output_type": "stream",
     "name": "stdout",
     "text": "hosgeldin mustafa password: 123456\n"
    }
   ],
   "source": [
    "cev = \"mustafa\"\n",
    "sor =\"kullanici adi giriniz\"\n",
    "cev1 = \"ayse\"\n",
    "while True:\n",
    "    veri = str(input(sor)).strip().lower()\n",
    "\n",
    "    if veri != cev:\n",
    "        print(\"hatali kullanici: \")\n",
    "    elif veri == cev1:\n",
    "        print(veri, \"yetkisiz kisi\")\n",
    "    else:\n",
    "        print(\"hosgeldin\", veri, \"password: 123456\")\n",
    "        break"
   ]
  },
  {
   "cell_type": "code",
   "execution_count": null,
   "metadata": {},
   "outputs": [],
   "source": []
  }
 ],
 "metadata": {
  "language_info": {
   "codemirror_mode": {
    "name": "ipython",
    "version": 3
   },
   "file_extension": ".py",
   "mimetype": "text/x-python",
   "name": "python",
   "nbconvert_exporter": "python",
   "pygments_lexer": "ipython3",
   "version": 3
  },
  "orig_nbformat": 2,
  "kernelspec": {
   "name": "python_defaultSpec_1594249951641",
   "display_name": "Python 3.7.6 64-bit ('base': conda)"
  }
 },
 "nbformat": 4,
 "nbformat_minor": 2
}